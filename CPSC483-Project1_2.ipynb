{
 "cells": [
  {
   "cell_type": "markdown",
   "id": "c5dce5e7",
   "metadata": {},
   "source": [
    "# CPSC 483 - Project 1 Anomaly Detection\n",
    "\n",
    "This purpose of this project is to implement some rudimentary algorithms to detect outliers\n",
    "in a dataset using different methods and comparing them.\n",
    "\n",
    "Janelle Estabillo\n",
    "estabillojanelle@csu.fullerton.edu\n",
    "\n",
    "Benjamin Ahn\n",
    "benahn333@csu.fullerton.edu\n",
    "\n",
    "Gabriel Gamboa\n",
    "gabe04@csu.fullerton.edu"
   ]
  },
  {
   "cell_type": "markdown",
   "id": "ca53b682",
   "metadata": {},
   "source": [
    "# **#1 Loading the Dataset and Examining its contents**"
   ]
  },
  {
   "cell_type": "code",
   "execution_count": 25,
   "id": "761fbc40",
   "metadata": {},
   "outputs": [
    {
     "name": "stdout",
     "output_type": "stream",
     "text": [
      "['Student Name', 'Week 1', 'Week 2', 'Week 3', 'Week 4', 'Week 5']\n",
      "['Adrian Ellison', '77', '154', '4', '170', '175']\n",
      "['Ophelia Mcphee', '179', '151', '164', '173', '171']\n",
      "['Yasir Fenton', '180', '47', '164', '168', '169']\n",
      "['Benny Arias', '180', '152', '161', '170', '170']\n",
      "['Tamara Cottrell', '183', '79', '161', '173', '168']\n",
      "['Jada Calhoun', '178', '147', '162', '171', '175']\n",
      "['Marlene Parry', '174', '150', '159', '171', '170']\n",
      "['Jazmin Foreman', '181', '103', '157', '172', '35']\n",
      "['Bear Zuniga', '180', '131', '160', '170', '182']\n",
      "['Sanjay Edwards', '173', '154', '161', '171', '66']\n",
      "['Vicki Person', '178', '156', '161', '172', '173']\n",
      "['Teegan Fleming', '183', '153', '156', '167', '161']\n",
      "['Alfie-James Pierce', '180', '150', '155', '172', '74']\n",
      "['Waleed Wagstaff', '174', '153', '161', '168', '176']\n",
      "['Miles Lyons', '177', '2', '160', '173', '169']\n",
      "['Ayrton Justice', '178', '153', '160', '169', '175']\n",
      "['Adeline Jordan', '179', '152', '105', '172', '195']\n",
      "['Katelyn Beard', '179', '146', '164', '170', '171']\n",
      "['Lindsey Fuller', '177', '157', '159', '172', '174']\n",
      "['Annabell Hart', '177', '155', '162', '171', '174']\n",
      "['Tayla Sparrow', '51', '154', '166', '170', '174']\n",
      "['Kai Cabrera', '170', '151', '160', '173', '168']\n",
      "['Rosie Higgins', '175', '153', '157', '172', '170']\n",
      "['Dora Delacruz', '175', '147', '161', '316', '175']\n",
      "['Daniella Gould', '176', '153', '167', '173', '167']\n",
      "['Shaquille Wood', '175', '154', '165', '184', '170']\n",
      "['Aditi Abbott', '175', '148', '168', '168', '171']\n",
      "['Gabija Whitney', '175', '153', '165', '172', '178']\n",
      "['Fynn Robin', '170', '154', '163', '173', '175']\n",
      "['Jaye Sweeney', '174', '156', '121', '169', '168']\n",
      "['Saffa Brook', '175', '154', '164', '171', '143']\n",
      "['Kameron Anthony', '174', '157', '149', '169', '169']\n",
      "['Owain Emerson', '9', '290', '163', '170', '164']\n",
      "[\"Tim O'Connor\", '170', '155', '157', '171', '174']\n",
      "['Alaya Dickinson', '24', '154', '161', '170', '174']\n"
     ]
    }
   ],
   "source": [
    "import csv\n",
    "with open('participants.csv', newline='') as f:\n",
    "    reader = csv.reader(f)\n",
    "    for row in reader:\n",
    "        #examining contents of the file\n",
    "        print(row)"
   ]
  },
  {
   "cell_type": "markdown",
   "id": "18dc43ae",
   "metadata": {},
   "source": [
    "**#2 Finding the mean and median of Week 1's data**\n",
    "- Import the csv library and open the file in reading mode, then we will use the DictReader() function to read the data of the CSV file.\n",
    "- We will create empty lists so that we can store the values in it\n",
    "- Finally, we access the key values and append them into the empty lists and manipulate that list.\n",
    "- Since all of the list is string, we have to convert week1-week5 into integers using list comprehension\n",
    "- Now that Week 1-5 are all integers we can now use the statistics module to find out the mean and median of week 1"
   ]
  },
  {
   "cell_type": "code",
   "execution_count": 24,
   "id": "b58fc621",
   "metadata": {},
   "outputs": [
    {
     "name": "stdout",
     "output_type": "stream",
     "text": [
      "Mean of Week 1 is: 161\n",
      "Median of Week 1 is: 175\n"
     ]
    }
   ],
   "source": [
    "# importing the module\n",
    "import csv\n",
    " \n",
    "# open the file in read mode\n",
    "filename = open('participants.csv', 'r')\n",
    " \n",
    "# creating dictreader object\n",
    "file = csv.DictReader(filename)\n",
    " \n",
    "# creating empty lists\n",
    "stud_name=[]\n",
    "week1 = []\n",
    "week2 = []\n",
    "week3 = []\n",
    "week4 = []\n",
    "week5 = []\n",
    "\n",
    "# iterating over each row and append\n",
    "# values to empty list\n",
    "for col in file:\n",
    "    stud_name.append(col['Student Name'])\n",
    "    week1.append(col['Week 1'])\n",
    "    week2.append(col['Week 2'])\n",
    "    week3.append(col['Week 3'])\n",
    "    week4.append(col['Week 4'])\n",
    "    week5.append(col['Week 5'])\n",
    "\n",
    "#testing\n",
    "#print(week1)\n",
    "\n",
    "#Since all of the list is string, we have to convert week1-week5 into integers using list comprehension\n",
    "week1 = [int(i) for i in week1]\n",
    "week2 = [int(i) for i in week2]\n",
    "week3 = [int(i) for i in week3]\n",
    "week4 = [int(i) for i in week4]\n",
    "week5 = [int(i) for i in week5]\n",
    "\n",
    "#testing \n",
    "#print(week1)\n",
    "\n",
    "#Finding the mean of Week 1 using the Statistics module\n",
    "import statistics\n",
    "mean_week1 = statistics.mean(week1)\n",
    "print(\"Mean of Week 1 is: \" + str(mean_week1))\n",
    "\n",
    "median_week1 = statistics.median(week1)\n",
    "print(\"Median of Week 1 is: \" + str(median_week1))\n"
   ]
  },
  {
   "cell_type": "markdown",
   "id": "eed78124",
   "metadata": {},
   "source": [
    "**#3 Finding the Quartiles of Week 1**\n",
    "- Set n to 4 for quartiles (the default)"
   ]
  },
  {
   "cell_type": "code",
   "execution_count": 23,
   "id": "8f02abfc",
   "metadata": {},
   "outputs": [
    {
     "name": "stdout",
     "output_type": "stream",
     "text": [
      "Quartiles for Week 1: [174.0, 175.0, 179.0]\n"
     ]
    }
   ],
   "source": [
    "week1_quartile = statistics.quantiles(week1, n=4, method='exclusive')\n",
    "print(\"Quartiles for Week 1: \" + str(week1_quartile))"
   ]
  },
  {
   "cell_type": "markdown",
   "id": "7f8c6f99",
   "metadata": {},
   "source": [
    "**#4 Looking for Outliers in the Data using Tukey's Fences Method**\n",
    "- First find the lower and upper quantile\n",
    "- Calculate the Interquartile Range(IQR) using IQR =Q3 - Q1, whereas q3 := 75th quartile and q1 := 25th quartile\n",
    "- Calculate the lower bound using k=1.5\n",
    "- Calculate the upper bound using k=1.5\n",
    "- Print the outliers"
   ]
  },
  {
   "cell_type": "code",
   "execution_count": 22,
   "id": "13f6a166",
   "metadata": {},
   "outputs": [
    {
     "name": "stdout",
     "output_type": "stream",
     "text": [
      "q3 = 179.0\n",
      "q1 = 174.0\n",
      "IQR is = 5.0\n",
      "The lower bound is 166.5 and the upper bound is 186.5\n",
      "The outliers in Week 1 are: [77, 51, 9, 24]\n"
     ]
    }
   ],
   "source": [
    "#Calculating the 75th percentile\n",
    "q3 = statistics.quantiles(week1, n=100, method='exclusive')[76] #75th percentile\n",
    "print(\"q3 = \" + str(q3))\n",
    "\n",
    "#Calculating the 25th percentile\n",
    "q1 = statistics.quantiles(week1, n=100, method='exclusive')[26] #25th percentile\n",
    "print(\"q1 = \" + str(q1))\n",
    "\n",
    "#Calculating IQR\n",
    "IQR = q3 - q1\n",
    "print(\"IQR is = \" + str(IQR))\n",
    "\n",
    "#Calculating Lower & Upper Bound\n",
    "k = 1.5\n",
    "lower_bound = q1 - (IQR * k)\n",
    "upper_bound = q3 + (IQR * k)\n",
    "\n",
    "print(\"The lower bound is \" + str(lower_bound) + \" and the upper bound is \" + str(upper_bound))\n",
    "\n",
    "#Finding the outliers of Week 1 and printing them\n",
    "week1_outliers = []\n",
    "for x in week1:\n",
    "    if x <= lower_bound or x >= upper_bound:\n",
    "        week1_outliers.append(x)\n",
    "print(\"The outliers in Week 1 are: \" + str(week1_outliers))\n",
    "\n",
    "#testing \n",
    "#print(week1)"
   ]
  },
  {
   "cell_type": "markdown",
   "id": "e34ea673",
   "metadata": {},
   "source": [
    "**#5 Compute the Standard Deviation of Week 1 and Find the Outliers**\n",
    "\n",
    "- Using the Standard Deviation method to find outliers and compare the results from the Tukey's Fences Method.\n",
    "- In a normal distribution, 99.7% of the values lie within three standard deviations from the mean. Therefore we will have num = 3\n",
    "- The result is not quite the same with the Tukey's Fences Method. The Standard Deviation method showed less outliers than the former. "
   ]
  },
  {
   "cell_type": "code",
   "execution_count": 21,
   "id": "7a9b3c77",
   "metadata": {},
   "outputs": [
    {
     "name": "stdout",
     "output_type": "stream",
     "text": [
      "The Standard Deviation of Week 1 is: 45.02025687856262\n",
      "The Mean of Week 1 is: 161\n",
      "The lower bound is: 25.939229364312155\n",
      "The upper bound is: 296.06077063568785\n",
      "The outliers using the Standard Deviation Method are: [9, 24]\n"
     ]
    }
   ],
   "source": [
    "#Finding the standard deviation\n",
    "week1_stdev = statistics.stdev(week1, xbar=None)\n",
    "print(\"The Standard Deviation of Week 1 is: \" + str(week1_stdev))\n",
    "print(\"The Mean of Week 1 is: \" + str(mean_week1))\n",
    "\n",
    "#Recalling that 99.7% lie within 3 standard deviations from mean\n",
    "num = 3\n",
    "\n",
    "cut_off = week1_stdev * num\n",
    "#print(cut_off)\n",
    "\n",
    "#Finding the lower and upper bound\n",
    "lower = mean_week1 - cut_off\n",
    "upper = mean_week1 + cut_off\n",
    "print(\"The lower bound is: \" + str(lower))\n",
    "print(\"The upper bound is: \" + str(upper))\n",
    "\n",
    "#Discovering the outliers from Week 1\n",
    "week1_outliersfromstdev = []\n",
    "for y in week1:\n",
    "    if y < lower or y > upper:\n",
    "        week1_outliersfromstdev.append(y)\n",
    "print(\"The outliers using the Standard Deviation Method are: \" + str(week1_outliersfromstdev))"
   ]
  },
  {
   "cell_type": "markdown",
   "id": "097590d4",
   "metadata": {},
   "source": [
    "**#6 Defining the function tardy_iqr()**\n",
    "\n",
    "- Created a function that will return the minutes below the lower Tukey fence.\n",
    "- Minutes returned will have a corresponding student name."
   ]
  },
  {
   "cell_type": "code",
   "execution_count": 52,
   "id": "839d2124",
   "metadata": {},
   "outputs": [
    {
     "name": "stdout",
     "output_type": "stream",
     "text": [
      "The lower outliers are: [35, 66, 74, 143]\n",
      "['Jazmin Foreman', 'Sanjay Edwards', 'Alfie-James Pierce', 'Saffa Brook']\n"
     ]
    },
    {
     "data": {
      "text/plain": [
       "['Jazmin Foreman', 'Sanjay Edwards', 'Alfie-James Pierce', 'Saffa Brook']"
      ]
     },
     "execution_count": 52,
     "metadata": {},
     "output_type": "execute_result"
    }
   ],
   "source": [
    "participants=[] \n",
    "import csv\n",
    "with open('participants.csv', newline='') as f:\n",
    "    reader = csv.reader(f)\n",
    "    next(reader)\n",
    "    for row in reader:\n",
    "        participants.append(row)\n",
    "\n",
    "#define function\n",
    "def tardy_iqr(col_name):\n",
    "    column = []\n",
    "    num = []\n",
    "    if col_name == \"Week 1\":\n",
    "        column = week1\n",
    "        num = 1\n",
    "    if col_name == \"Week 2\":\n",
    "        column = week2\n",
    "        num = 2\n",
    "    if col_name == \"Week 3\":\n",
    "        column = week3\n",
    "        num = 3\n",
    "    if col_name == \"Week 4\":\n",
    "        column = week4\n",
    "        num = 4\n",
    "    if col_name == \"Week 5\":\n",
    "        column = week5\n",
    "        num = 5\n",
    "    if col_name != \"Week 1\" and col_name != \"Week 2\" and col_name != \"Week 3\" and col_name != \"Week 4\" and col_name != \"Week 5\":\n",
    "        print(\"invalid column name\")\n",
    "\n",
    "    #Calculating the 75th percentile\n",
    "    q3 = statistics.quantiles(column, n=100, method='exclusive')[76] #75th percentile\n",
    "\n",
    "    #Calculating the 25th percentile\n",
    "    q1 = statistics.quantiles(column, n=100, method='exclusive')[26] #25th percentile\n",
    "\n",
    "    #Calculating IQR\n",
    "    IQR = q3 - q1\n",
    "\n",
    "    #Calculating Lower & Upper Bound\n",
    "    k = 1.5\n",
    "    lower_bound = q1 - (IQR * k)\n",
    "    #upper_bound = q3 + (IQR * k)\n",
    "    #print(\"The lower bound is \" + str(lower_bound) + \" and the upper bound is \" + str(upper_bound))\n",
    "\n",
    "    #Finding the outliers of Week 1 and printing them\n",
    "    low_outliers = []\n",
    "    for x in column:\n",
    "        if x <= lower_bound:\n",
    "            low_outliers.append(x)\n",
    "    \n",
    "    if low_outliers:\n",
    "        print(\"The lower outliers are: \" + str(low_outliers))\n",
    "    else:\n",
    "        print(\"There are no lower outliers this week.\")\n",
    "\n",
    "    tardy_studs = []\n",
    "    row_ctr = 0\n",
    "    for row in participants:\n",
    "        i_ctr = 0\n",
    "        for i in low_outliers:\n",
    "            if low_outliers[i_ctr] == int(participants[row_ctr][num]): #participants[][] is str type, needs to be converted to int for comparison\n",
    "                tardy_studs.append(participants[row_ctr][0])\n",
    "                i_ctr +=1\n",
    "                break\n",
    "            i_ctr += 1\n",
    "        row_ctr+=1\n",
    "        \n",
    "    if tardy_studs:\n",
    "        print(tardy_studs)\n",
    "    else:\n",
    "        print(\"There are no tardy students this week.\")\n",
    "    \n",
    "    return(tardy_studs)\n",
    "\n",
    "\n",
    "\n",
    "tardy_iqr(\"Week 5\")"
   ]
  },
  {
   "cell_type": "markdown",
   "id": "0def1db9",
   "metadata": {},
   "source": [
    "**#7 Defining the Function tardy_stdev()**\n",
    "\n",
    "-Create a function with an interface that allows for the selection of Weeks.\n",
    "\n",
    "-Weeks selected will be analyzed to find the Standard Deviation, Mean, Lower and Upper Bound and Outliers."
   ]
  },
  {
   "cell_type": "code",
   "execution_count": 74,
   "id": "d0583608",
   "metadata": {},
   "outputs": [
    {
     "name": "stdout",
     "output_type": "stream",
     "text": [
      "The Standard Deviation of the selected week is: 41.76712148298934\n",
      "The Mean of the selected week is: 145.0857142857143\n",
      "The Lower Bound is: 19.784349836746273\n",
      "The Upper Bound is: 270.3870787346823\n",
      "The Outliers using the Standard Deviation Method are: [2, 290]\n"
     ]
    }
   ],
   "source": [
    "#define function\n",
    "def tardy_stdev(week):\n",
    "    tardy_stdev_column = []\n",
    "    \n",
    "    if week == \"Week 1\":\n",
    "        tardy_stdev_column = week1\n",
    "    if week == \"Week 2\":\n",
    "        tardy_stdev_column = week2\n",
    "    if week == \"Week 3\":\n",
    "        tardy_stdev_column = week3\n",
    "    if week == \"Week 4\":\n",
    "        tardy_stdev_column = week4\n",
    "    if week == \"Week 5\":\n",
    "        tardy_stdev_column = week5\n",
    "    if week != \"Week 1\" and week != \"Week 2\" and week != \"Week 3\" and week != \"Week 4\" and week != \"Week 5\":\n",
    "        print(\"invalid column name\")\n",
    "\n",
    "    #Finding the mean of parameter \n",
    "    weekly_mean = statistics.mean(tardy_stdev_column)\n",
    "\n",
    "    #Finding the standard deviation\n",
    "    weekly_stdev = statistics.stdev(tardy_stdev_column, xbar=None)\n",
    "    print(\"The Standard Deviation of the selected week is: \" + str(weekly_stdev))\n",
    "    print(\"The Mean of the selected week is: \" + str(weekly_mean))\n",
    "\n",
    "    cut_off = weekly_stdev * 3\n",
    "    #print(cut_off)\n",
    "\n",
    "    #Finding the lower and upper bound\n",
    "    lower_bound = weekly_mean - cut_off\n",
    "    upper_bound = weekly_mean + cut_off\n",
    "    print(\"The Lower Bound is: \" + str(lower_bound))\n",
    "    print(\"The Upper Bound is: \" + str(upper_bound))\n",
    "\n",
    "    #Discovering the outliers from Week 1\n",
    "    weekly_outliers = []\n",
    "    for x in tardy_stdev_column:\n",
    "        if x < lower_bound or x > upper_bound:\n",
    "            weekly_outliers.append(x)\n",
    "    print(\"The Outliers using the Standard Deviation Method are: \" + str(weekly_outliers))\n",
    "\n",
    "tardy_stdev(\"Week 2\")"
   ]
  },
  {
   "cell_type": "markdown",
   "id": "800869a3",
   "metadata": {},
   "source": [
    "**#8 Comparing tardy_iqr() and tardy_stdev()**\n",
    "\n",
    "-We compare the two function above, tardy_iqr() and tardy_stdev().\n",
    "\n",
    "-Running both functions one after the other shows that the different methods yield different results. Especially since tardy_iqr only looks for lower outliers.\n",
    "\n",
    "-tardy_stdev seems to return only extreme outliers while tardy_iqr returns more mild ones using Tukey's fences."
   ]
  },
  {
   "cell_type": "code",
   "execution_count": 73,
   "id": "0e1f856d",
   "metadata": {
    "scrolled": false
   },
   "outputs": [
    {
     "name": "stdout",
     "output_type": "stream",
     "text": [
      "tardy_iqr Week 2:\n",
      "The lower outliers are: [47, 79, 103, 131, 2]\n",
      "['Yasir Fenton', 'Tamara Cottrell', 'Jazmin Foreman', 'Bear Zuniga', 'Miles Lyons']\n",
      "tardy_stdev Week 2:\n",
      "The Standard Deviation of the selected week is: 41.76712148298934\n",
      "The Mean of the selected week is: 145.0857142857143\n",
      "The lower bound is: 19.784349836746273\n",
      "The upper bound is: 270.3870787346823\n",
      "The outliers using the Standard Deviation Method are: [2, 290]\n",
      "\n",
      "\n",
      "tardy_iqr Week 3:\n",
      "The lower outliers are: [4, 105, 121, 149]\n",
      "['Adrian Ellison', 'Adeline Jordan', 'Jaye Sweeney', 'Kameron Anthony']\n",
      "tardy_stdev Week 3:\n",
      "The Standard Deviation of the selected week is: 28.709293432820054\n",
      "The Mean of the selected week is: 153.8\n",
      "The lower bound is: 67.67211970153986\n",
      "The upper bound is: 239.92788029846017\n",
      "The outliers using the Standard Deviation Method are: [4]\n",
      "\n",
      "\n",
      "tardy_iqr Week 4:\n",
      "There are no lower outliers this week.\n",
      "There are no tardy students this week.\n",
      "tardy_stdev Week 4:\n",
      "The Standard Deviation of the selected week is: 24.63590329361676\n",
      "The Mean of the selected week is: 175.31428571428572\n",
      "The lower bound is: 101.40657583343544\n",
      "The upper bound is: 249.22199559513598\n",
      "The outliers using the Standard Deviation Method are: [316]\n",
      "\n",
      "\n",
      "tardy_iqr Week 5:\n",
      "The lower outliers are: [35, 66, 74, 143]\n",
      "['Jazmin Foreman', 'Sanjay Edwards', 'Alfie-James Pierce', 'Saffa Brook']\n",
      "tardy_stdev Week 5:\n",
      "The Standard Deviation of the selected week is: 33.36941184766108\n",
      "The Mean of the selected week is: 161.8\n",
      "The lower bound is: 61.691764457016774\n",
      "The upper bound is: 261.9082355429832\n",
      "The outliers using the Standard Deviation Method are: [35]\n"
     ]
    }
   ],
   "source": [
    "print(\"tardy_iqr Week 2:\")\n",
    "tardy_iqr(\"Week 2\")\n",
    "print(\"tardy_stdev Week 2:\")\n",
    "tardy_stdev(\"Week 2\")\n",
    "print(\"\\n\")\n",
    "\n",
    "print(\"tardy_iqr Week 3:\")\n",
    "tardy_iqr(\"Week 3\")\n",
    "print(\"tardy_stdev Week 3:\")\n",
    "tardy_stdev(\"Week 3\")\n",
    "print(\"\\n\")\n",
    "\n",
    "print(\"tardy_iqr Week 4:\")\n",
    "tardy_iqr(\"Week 4\")\n",
    "print(\"tardy_stdev Week 4:\")\n",
    "tardy_stdev(\"Week 4\")\n",
    "print(\"\\n\")\n",
    "\n",
    "print(\"tardy_iqr Week 5:\")\n",
    "tardy_iqr(\"Week 5\")\n",
    "print(\"tardy_stdev Week 5:\")\n",
    "tardy_stdev(\"Week 5\")"
   ]
  },
  {
   "cell_type": "code",
   "execution_count": null,
   "id": "85bb429b",
   "metadata": {},
   "outputs": [],
   "source": []
  }
 ],
 "metadata": {
  "kernelspec": {
   "display_name": "Python 3 (ipykernel)",
   "language": "python",
   "name": "python3"
  },
  "language_info": {
   "codemirror_mode": {
    "name": "ipython",
    "version": 3
   },
   "file_extension": ".py",
   "mimetype": "text/x-python",
   "name": "python",
   "nbconvert_exporter": "python",
   "pygments_lexer": "ipython3",
   "version": "3.9.7"
  }
 },
 "nbformat": 4,
 "nbformat_minor": 5
}
